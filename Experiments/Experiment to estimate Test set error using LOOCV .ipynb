{
 "cells": [
  {
   "cell_type": "code",
   "execution_count": 2,
   "metadata": {
    "collapsed": false
   },
   "outputs": [
    {
     "name": "stderr",
     "output_type": "stream",
     "text": [
      "/Users/dkhandelwal/anaconda/lib/python2.7/site-packages/sklearn/lda.py:4: DeprecationWarning: lda.LDA has been moved to discriminant_analysis.LinearDiscriminantAnalysis in 0.17 and will be removed in 0.19\n",
      "  \"in 0.17 and will be removed in 0.19\", DeprecationWarning)\n",
      "/Users/dkhandelwal/anaconda/lib/python2.7/site-packages/sklearn/qda.py:4: DeprecationWarning: qda.QDA has been moved to discriminant_analysis.QuadraticDiscriminantAnalysis in 0.17 and will be removed in 0.19.\n",
      "  \"in 0.17 and will be removed in 0.19.\", DeprecationWarning)\n"
     ]
    }
   ],
   "source": [
    "import pandas as pd\n",
    "import numpy as np\n",
    "import matplotlib.pyplot as plt\n",
    "%matplotlib inline\n",
    "plt.style.use('ggplot')\n",
    "import seaborn as sns\n",
    "from sklearn import *\n"
   ]
  },
  {
   "cell_type": "code",
   "execution_count": 89,
   "metadata": {
    "collapsed": false
   },
   "outputs": [],
   "source": [
    "np.random.seed(50)\n",
    "# generating random numbers\n",
    "X = np.random.normal(loc = 1, scale = 5 , size =100) \n",
    "y = np.random.normal(loc = 1, scale = 5 , size =100)\n",
    "y = X - 2*X**2+np.random.normal(100)"
   ]
  },
  {
   "cell_type": "code",
   "execution_count": null,
   "metadata": {
    "collapsed": false
   },
   "outputs": [],
   "source": []
  },
  {
   "cell_type": "code",
   "execution_count": 90,
   "metadata": {
    "collapsed": false
   },
   "outputs": [
    {
     "data": {
      "text/plain": [
       "<matplotlib.text.Text at 0x11fe1a590>"
      ]
     },
     "execution_count": 90,
     "metadata": {},
     "output_type": "execute_result"
    },
    {
     "data": {
      "image/png": "[encoded data removed]",
      "text/plain": [
       "<matplotlib.figure.Figure at 0x11ecb9f90>"
      ]
     },
     "metadata": {},
     "output_type": "display_data"
    }
   ],
   "source": [
    "plt.scatter(x = X , y = y)\n",
    "plt.xlabel('X')\n",
    "plt.ylabel('Y')\n",
    "plt.title('Y V/s X')"
   ]
  },
  {
   "cell_type": "code",
   "execution_count": 91,
   "metadata": {
    "collapsed": true
   },
   "outputs": [],
   "source": [
    "df = pd.DataFrame({'X':X , 'Y':y})"
   ]
  },
  {
   "cell_type": "code",
   "execution_count": 92,
   "metadata": {
    "collapsed": false
   },
   "outputs": [
    {
     "data": {
      "text/html": [
       "<div>\n",
       "<table border=\"1\" class=\"dataframe\">\n",
       "  <thead>\n",
       "    <tr style=\"text-align: right;\">\n",
       "      <th></th>\n",
       "      <th>X</th>\n",
       "      <th>Y</th>\n",
       "    </tr>\n",
       "  </thead>\n",
       "  <tbody>\n",
       "    <tr>\n",
       "      <th>0</th>\n",
       "      <td>-6.801761</td>\n",
       "      <td>1.235368</td>\n",
       "    </tr>\n",
       "    <tr>\n",
       "      <th>1</th>\n",
       "      <td>0.845112</td>\n",
       "      <td>99.981705</td>\n",
       "    </tr>\n",
       "    <tr>\n",
       "      <th>2</th>\n",
       "      <td>-2.104642</td>\n",
       "      <td>89.601343</td>\n",
       "    </tr>\n",
       "    <tr>\n",
       "      <th>3</th>\n",
       "      <td>-6.322902</td>\n",
       "      <td>14.283929</td>\n",
       "    </tr>\n",
       "    <tr>\n",
       "      <th>4</th>\n",
       "      <td>8.059731</td>\n",
       "      <td>-21.293763</td>\n",
       "    </tr>\n",
       "  </tbody>\n",
       "</table>\n",
       "</div>"
      ],
      "text/plain": [
       "          X          Y\n",
       "0 -6.801761   1.235368\n",
       "1  0.845112  99.981705\n",
       "2 -2.104642  89.601343\n",
       "3 -6.322902  14.283929\n",
       "4  8.059731 -21.293763"
      ]
     },
     "execution_count": 92,
     "metadata": {},
     "output_type": "execute_result"
    }
   ],
   "source": [
    "df.head()"
   ]
  },
  {
   "cell_type": "code",
   "execution_count": 93,
   "metadata": {
    "collapsed": true
   },
   "outputs": [],
   "source": [
    "# Adding polynomial features\n",
    "df['X_2'] = df.X**2\n",
    "df['X_3'] = df.X**3\n",
    "df['X_4'] = df.X**4"
   ]
  },
  {
   "cell_type": "code",
   "execution_count": 29,
   "metadata": {
    "collapsed": false,
    "scrolled": true
   },
   "outputs": [
    {
     "data": {
      "text/html": [
       "<div>\n",
       "<table border=\"1\" class=\"dataframe\">\n",
       "  <thead>\n",
       "    <tr style=\"text-align: right;\">\n",
       "      <th></th>\n",
       "      <th>X</th>\n",
       "      <th>Y</th>\n",
       "      <th>X_2</th>\n",
       "      <th>X_3</th>\n",
       "      <th>X_4</th>\n",
       "    </tr>\n",
       "  </thead>\n",
       "  <tbody>\n",
       "    <tr>\n",
       "      <th>0</th>\n",
       "      <td>9.121727</td>\n",
       "      <td>-57.690952</td>\n",
       "      <td>83.205900</td>\n",
       "      <td>758.981491</td>\n",
       "      <td>6923.221819</td>\n",
       "    </tr>\n",
       "    <tr>\n",
       "      <th>1</th>\n",
       "      <td>-2.058782</td>\n",
       "      <td>89.063173</td>\n",
       "      <td>4.238584</td>\n",
       "      <td>-8.726320</td>\n",
       "      <td>17.965591</td>\n",
       "    </tr>\n",
       "    <tr>\n",
       "      <th>2</th>\n",
       "      <td>-1.640859</td>\n",
       "      <td>92.573428</td>\n",
       "      <td>2.692417</td>\n",
       "      <td>-4.417877</td>\n",
       "      <td>7.249112</td>\n",
       "    </tr>\n",
       "    <tr>\n",
       "      <th>3</th>\n",
       "      <td>-4.364843</td>\n",
       "      <td>57.130568</td>\n",
       "      <td>19.051855</td>\n",
       "      <td>-83.158360</td>\n",
       "      <td>362.973193</td>\n",
       "    </tr>\n",
       "    <tr>\n",
       "      <th>4</th>\n",
       "      <td>5.327038</td>\n",
       "      <td>48.171489</td>\n",
       "      <td>28.377335</td>\n",
       "      <td>151.167148</td>\n",
       "      <td>805.273165</td>\n",
       "    </tr>\n",
       "  </tbody>\n",
       "</table>\n",
       "</div>"
      ],
      "text/plain": [
       "          X          Y        X_2         X_3          X_4\n",
       "0  9.121727 -57.690952  83.205900  758.981491  6923.221819\n",
       "1 -2.058782  89.063173   4.238584   -8.726320    17.965591\n",
       "2 -1.640859  92.573428   2.692417   -4.417877     7.249112\n",
       "3 -4.364843  57.130568  19.051855  -83.158360   362.973193\n",
       "4  5.327038  48.171489  28.377335  151.167148   805.273165"
      ]
     },
     "execution_count": 29,
     "metadata": {},
     "output_type": "execute_result"
    }
   ],
   "source": [
    "df.head()"
   ]
  },
  {
   "cell_type": "code",
   "execution_count": 33,
   "metadata": {
    "collapsed": false
   },
   "outputs": [
    {
     "data": {
      "text/html": [
       "<div>\n",
       "<table border=\"1\" class=\"dataframe\">\n",
       "  <thead>\n",
       "    <tr style=\"text-align: right;\">\n",
       "      <th></th>\n",
       "      <th>X</th>\n",
       "      <th>Y</th>\n",
       "      <th>X_2</th>\n",
       "      <th>X_3</th>\n",
       "      <th>X_4</th>\n",
       "    </tr>\n",
       "  </thead>\n",
       "  <tbody>\n",
       "    <tr>\n",
       "      <th>2</th>\n",
       "      <td>-1.640859</td>\n",
       "      <td>92.573428</td>\n",
       "      <td>2.692417</td>\n",
       "      <td>-4.417877</td>\n",
       "      <td>7.249112</td>\n",
       "    </tr>\n",
       "  </tbody>\n",
       "</table>\n",
       "</div>"
      ],
      "text/plain": [
       "          X          Y       X_2       X_3       X_4\n",
       "2 -1.640859  92.573428  2.692417 -4.417877  7.249112"
      ]
     },
     "execution_count": 33,
     "metadata": {},
     "output_type": "execute_result"
    }
   ],
   "source": [
    "df.iloc[[2]]"
   ]
  },
  {
   "cell_type": "code",
   "execution_count": 94,
   "metadata": {
    "collapsed": false
   },
   "outputs": [],
   "source": [
    "y = df.Y\n",
    "X_linear = df[['X']]\n",
    "X_quad = df[['X','X_2']]\n",
    "X_cube = df[['X','X_2','X_3']]\n",
    "X_quar = df[['X','X_2','X_3','X_4']]"
   ]
  },
  {
   "cell_type": "code",
   "execution_count": 44,
   "metadata": {
    "collapsed": false
   },
   "outputs": [],
   "source": []
  },
  {
   "cell_type": "markdown",
   "metadata": {},
   "source": [
    "#### We would now create 4 separate models -Linear, quadratic,cubic,quartic and try to estimate the MSE on each of the model using the LOOCV approach"
   ]
  },
  {
   "cell_type": "code",
   "execution_count": 95,
   "metadata": {
    "collapsed": true
   },
   "outputs": [],
   "source": [
    "\n",
    "# these 4 vars will hold the values of the test MSEs\n",
    "mse_linear = 0\n",
    "mse_quad = 0\n",
    "mse_cube = 0\n",
    "mse_quar = 0\n",
    "yhat_linear = []\n",
    "yhat_quad = []\n",
    "yhat_cube = []\n",
    "yhat_quar = []\n",
    "\n",
    "# The loop below splits the data in test and training and estimates the test MSE\n",
    "for i in range(0,len(df)):\n",
    "    # Creating test sets from the data sets\n",
    "    test_X_linear = X_linear.iloc[[i]]\n",
    "    test_X_quad = X_quad.iloc[[i]]\n",
    "    test_X_cube = X_cube.iloc[[i]]\n",
    "    test_X_quar = X_quar.iloc[[i]]\n",
    "    # Test y - the actual lable would be the same for all the models\n",
    "    test_y = y[i]\n",
    "    \n",
    "    # creating the training sets for the model\n",
    "    \n",
    "    train_X_linear = X_linear.drop(X_linear.index[[i]])\n",
    "    train_X_quad = X_quad.drop(X_quad.index[[i]])\n",
    "    train_X_cube = X_cube.drop(X_cube.index[[i]])\n",
    "    train_X_quar = X_quar.drop(X_quar.index[[i]])\n",
    "    # train y would be the same for all the X's\n",
    "    train_y = y.drop(y.index[i])\n",
    "    \n",
    "    #creating models\n",
    "    model_linear = linear_model.LinearRegression().fit(train_X_linear ,train_y)\n",
    "    model_quad = linear_model.LinearRegression().fit(train_X_quad ,train_y)\n",
    "    model_cube = linear_model.LinearRegression().fit(train_X_cube ,train_y)\n",
    "    model_quar = linear_model.LinearRegression().fit(train_X_quar ,train_y)\n",
    "    \n",
    "    # Predicting values and calculating MSEs\n",
    "    y_hat_linear = model_linear.predict(test_X_linear)\n",
    "    yhat_linear.append(y_hat_linear)\n",
    "    mse_linear = mse_linear + (y_hat_linear - test_y)**2\n",
    "    \n",
    "    y_hat_quad = model_quad.predict(test_X_quad)\n",
    "    mse_quad = mse_quad + (y_hat_quad - test_y)**2\n",
    "    yhat_quad.append(y_hat_quad)\n",
    "    \n",
    "    y_hat_cube = model_cube.predict(test_X_cube)\n",
    "    mse_cube = mse_cube + (y_hat_cube - test_y)**2\n",
    "    yhat_cube.append(y_hat_cube)\n",
    "    \n",
    "    y_hat_quar = model_quar.predict(test_X_quar)\n",
    "    mse_quar = mse_quar + (y_hat_quar - test_y)**2\n",
    "    yhat_quar.append(y_hat_quar)\n",
    "\n",
    "mse_linear = (mse_linear)/len(df)\n",
    "mse_quad = (mse_quad)/len(df)\n",
    "mse_cube = (mse_cube)/len(df)\n",
    "mse_quar = (mse_quar)/len(df)"
   ]
  },
  {
   "cell_type": "code",
   "execution_count": 96,
   "metadata": {
    "collapsed": false
   },
   "outputs": [
    {
     "name": "stdout",
     "output_type": "stream",
     "text": [
      " The test MSE for linear model is array([ 13728.29853699])\n",
      " The test MSE for Quadratic model is array([  1.82106962e-27])\n",
      " The test MSE for cubic model is array([  1.19780135e-25])\n",
      " The test Quartic   model is array([  1.01392002e-23])\n"
     ]
    }
   ],
   "source": [
    "print \" The test MSE for linear model is %r\" %mse_linear\n",
    "print \" The test MSE for Quadratic model is %r\" %mse_quad\n",
    "print \" The test MSE for cubic model is %r\" %mse_cube\n",
    "print \" The test Quartic   model is %r\" %mse_quar"
   ]
  },
  {
   "cell_type": "code",
   "execution_count": 97,
   "metadata": {
    "collapsed": false
   },
   "outputs": [
    {
     "data": {
      "text/plain": [
       "([<matplotlib.axis.XTick at 0x1203eae90>,\n",
       "  <matplotlib.axis.XTick at 0x1203eaf50>,\n",
       "  <matplotlib.axis.XTick at 0x120545750>,\n",
       "  <matplotlib.axis.XTick at 0x120560950>],\n",
       " <a list of 4 Text xticklabel objects>)"
      ]
     },
     "execution_count": 97,
     "metadata": {},
     "output_type": "execute_result"
    },
    {
     "data": {
      "image/png": "[encoded data removed]",
      "text/plain": [
       "<matplotlib.figure.Figure at 0x11e6d4e10>"
      ]
     },
     "metadata": {},
     "output_type": "display_data"
    }
   ],
   "source": [
    "fig, ax = plt.subplots()\n",
    "y_pos = range(0,4) # for each of the Model score\n",
    "objects = ('Linear', 'quadratic', 'Cubic', 'Quartic')\n",
    "performance = [mse_linear , mse_quad , mse_cube , mse_quar]\n",
    "index = [1 ,2 , 3 ,4]\n",
    "bar_width = .35\n",
    "\n",
    "plt.bar(y_pos, performance, align='center', alpha=0.5)\n",
    "#plt.bar(performance,y_pos ,align='center', alpha=0.5)\n",
    "plt.xticks(y_pos, objects)\n"
   ]
  },
  {
   "cell_type": "code",
   "execution_count": null,
   "metadata": {
    "collapsed": false
   },
   "outputs": [],
   "source": []
  },
  {
   "cell_type": "code",
   "execution_count": 98,
   "metadata": {
    "collapsed": false
   },
   "outputs": [
    {
     "data": {
      "text/plain": [
       "<matplotlib.text.Text at 0x1205e17d0>"
      ]
     },
     "execution_count": 98,
     "metadata": {},
     "output_type": "execute_result"
    },
    {
     "data": {
      "image/png": "[encoded data removed]",
      "text/plain": [
       "<matplotlib.figure.Figure at 0x1203822d0>"
      ]
     },
     "metadata": {},
     "output_type": "display_data"
    }
   ],
   "source": [
    "plt.figure(figsize=(20,10))\n",
    "plt.scatter(x = df.X , y = df.Y ,marker = '*' ,label = 'Actual')\n",
    "plt.scatter(x = df.X , y = yhat_linear ,marker = 'o' ,label = 'linear',c = 'k')\n",
    "plt.scatter(x = df.X , y = yhat_quad ,marker = '^' ,label = 'Quadratic',c = 'r')\n",
    "plt.scatter(x = df.X , y = yhat_cube ,label = 'cube',c = 'g')\n",
    "plt.scatter(x = df.X , y = yhat_quar ,label = 'quar',c = 'y')\n",
    "plt.legend(loc='best')\n",
    "\n",
    "plt.xlabel('X')\n",
    "plt.ylabel('Y')\n",
    "plt.title('Y V/s X')"
   ]
  },
  {
   "cell_type": "markdown",
   "metadata": {},
   "source": [
    "Conclusion:\n",
    "- The MSE for Quadratic , Cubic and Bi quadratic models are very close to one another and are hence overlapping"
   ]
  },
  {
   "cell_type": "code",
   "execution_count": null,
   "metadata": {
    "collapsed": true
   },
   "outputs": [],
   "source": []
  },
  {
   "cell_type": "code",
   "execution_count": null,
   "metadata": {
    "collapsed": true
   },
   "outputs": [],
   "source": []
  }
 ],
 "metadata": {
  "kernelspec": {
   "display_name": "Python 2",
   "language": "python",
   "name": "python2"
  },
  "language_info": {
   "codemirror_mode": {
    "name": "ipython",
    "version": 2
   },
   "file_extension": ".py",
   "mimetype": "text/x-python",
   "name": "python",
   "nbconvert_exporter": "python",
   "pygments_lexer": "ipython2",
   "version": "2.7.11"
  }
 },
 "nbformat": 4,
 "nbformat_minor": 0
}
